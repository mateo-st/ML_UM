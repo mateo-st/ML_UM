{
 "cells": [
  {
   "cell_type": "code",
   "execution_count": 32,
   "id": "76e29bea",
   "metadata": {},
   "outputs": [],
   "source": [
    "from faker import Faker\n",
    "import numpy as np\n",
    "import random\n",
    "import pandas as pd"
   ]
  },
  {
   "cell_type": "markdown",
   "id": "df9a19c6",
   "metadata": {},
   "source": [
    "# PLEASE READ: DO NOT RUN THIS CELL\n",
    "\n",
    "This code creates and saves an auto generated dataset.\n",
    "This cell was carefully tested in order to get *nice* visual results in the main task. Given that the syntetic dataset is generated RANDOMICALY, if this cell is ran, then the cluster analysis may vary *significantly*. "
   ]
  },
  {
   "cell_type": "code",
   "execution_count": 33,
   "id": "fc9e12c2",
   "metadata": {},
   "outputs": [],
   "source": [
    "# Manual dataset creation\n",
    "\n",
    "dataset_size = 1000\n",
    "names = []\n",
    "weights_data = []\n",
    "heights_data = []\n",
    "sports_practiced = []\n",
    "smokers = []\n",
    "risky_habits = []\n",
    "hypertensives = []\n",
    "past_treatments = []\n",
    "health_concerns = []\n",
    "\n",
    "for person in range(dataset_size):\n",
    "    fake = Faker()\n",
    "    name = fake.name()\n",
    "    height = round(np.random.normal(175, 20))\n",
    "    weight = round(np.random.normal(75, 25))\n",
    "    sports = random.choices([0, 1, 2, 3], [0.3, 0.3, 0.2, 0.2])[0]\n",
    "    \n",
    "    if height > 195*np.random.random():  # if too tall, maybe plays basketball and more sports\n",
    "        weight = round(np.random.normal(90, 20))\n",
    "        sports = random.choices([0, 1, 2, 3], [0.1, 0.4, 0.25, 0.25])[0]\n",
    "    \n",
    "    if sports > 2.5*np.random.random():  # randomize logic behind relationships in the dataset\n",
    "        smoker = random.choices([0, 1], [0.95, 0.05])[0]  # if sports-person, more unlikely to smoke than not sports-person\n",
    "        risky_habit = random.choices([0, 1], [0.5, 0.5])[0]  # if too many sports, more likely to have a risky sport\n",
    "    else:\n",
    "        smoker = random.choices([0, 1], [0.75, 0.25])[0]\n",
    "        risky_habit = random.choices([0, 1], [0.7, 0.3])[0]\n",
    "    \n",
    "    job = fake.job()\n",
    "    if job in ['Construction worker', 'Police officer', 'Firefighter']:  \n",
    "        # it is interesting to note the ethical implications of this code line\n",
    "        risky_habit = 1\n",
    "    \n",
    "    if smoker: # smokers\n",
    "        hypertension = random.choices([0, 1], [0.6, 0.4])[0]\n",
    "        health_concern = random.choices([0, 1], [0.65, 0.35])[0]\n",
    "    elif sports > 2*np.random.random(): # \"sportsperson\"\n",
    "        hypertension = random.choices([0, 1], [0.8, 0.2])[0]\n",
    "        health_concern = random.choices([0,1], [0.85, 0.15])[0]\n",
    "    else: # \"normal\" person\n",
    "        hypertension = random.choices([0, 1], [0.7, 0.3])[0]\n",
    "        health_concern = random.choices([0, 1], [0.75, 0.25])[0]\n",
    "        \n",
    "    if health_concern:\n",
    "        past_treatment = random.choices([0, 1], [0.6, 0.4])[0]\n",
    "    else:\n",
    "        past_treatment = random.choices([0, 1], [0.8, 0.2])[0]\n",
    "    \n",
    "    names.append(name)\n",
    "    weights_data.append(weight)\n",
    "    heights_data.append(height)\n",
    "    sports_practiced.append(sports)\n",
    "    smokers.append(smoker)\n",
    "    risky_habits.append(risky_habit)\n",
    "    hypertensives.append(hypertension)\n",
    "    past_treatments.append(past_treatment)\n",
    "    health_concerns.append(health_concern)\n",
    "\n",
    "synthetic_data = [names, weights_data, heights_data, sports_practiced, smokers, risky_habits, hypertensives, health_concerns, past_treatments]\n"
   ]
  },
  {
   "cell_type": "code",
   "execution_count": 34,
   "id": "cac33ed8",
   "metadata": {},
   "outputs": [],
   "source": [
    "synthetic_df_columns = [\"name\", \"weight\", \"height\", \"number_of_sports\", \"smoker\", \"risky_activity\", \"hypertension\", \"health_concerns\", \"past_treatments\"]\n",
    "synthetic_dict = dict(zip(synthetic_df_columns, synthetic_data))\n",
    "regform_df = pd.DataFrame(synthetic_dict)\n",
    "\n",
    "# saving the dataset to a csv file in order to craete it. \n",
    "\n",
    "# commenting this cell for safety reasons.\n",
    "#regform_df.to_csv(r'C:\\Users\\Ariel\\Desktop\\obli3\\ML_UM\\3º Lab\\reg_form.csv', index=False)"
   ]
  }
 ],
 "metadata": {
  "kernelspec": {
   "display_name": "Python 3 (ipykernel)",
   "language": "python",
   "name": "python3"
  },
  "language_info": {
   "codemirror_mode": {
    "name": "ipython",
    "version": 3
   },
   "file_extension": ".py",
   "mimetype": "text/x-python",
   "name": "python",
   "nbconvert_exporter": "python",
   "pygments_lexer": "ipython3",
   "version": "3.8.3"
  }
 },
 "nbformat": 4,
 "nbformat_minor": 5
}
